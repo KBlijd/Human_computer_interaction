{
 "cells": [
  {
   "cell_type": "code",
   "execution_count": 1,
   "metadata": {
    "id": "-gSKJxbA87VA"
   },
   "outputs": [],
   "source": [
    "from fastai.vision.all import *\n",
    "from fastai.vision.widgets import *"
   ]
  },
  {
   "cell_type": "code",
   "execution_count": 2,
   "metadata": {
    "id": "_vFgelTz91GW"
   },
   "outputs": [],
   "source": [
    "model = load_learner('export.pkl')"
   ]
  },
  {
   "cell_type": "code",
   "execution_count": 3,
   "metadata": {
    "colab": {
     "base_uri": "https://localhost:8080/",
     "height": 230,
     "referenced_widgets": [
      "5afd74a8721f4f30a39cfcdda1f9e0a3",
      "fbcfb9861150473893ab71ce34b87e64",
      "72dee7cc95224d48a0e96a3505720fe9",
      "a81aaaa05297486f8a3eae25a49fbc0e",
      "b0ac851f55e94db1a3bba581d135984f",
      "952f65280bba4c73a9e3997b45011629",
      "9bbfb051e9dc4dcb96debb6c33834ac5",
      "91429a934c4c44e1948e104294de25d1",
      "3e9f7e1e7d724cdca3ce2380897a8f5b",
      "b376178f9f424bb996dbe9066993d302",
      "6baa0a6dcdb447c082da8dc2a56a37ff",
      "73b4982d24fd487fa894df06f221dd83",
      "577a48574c4c4204afee8c251909154a",
      "4480a03f3a504e0299ec79515127f437",
      "b9682041b07f4fccbbb3c7d4be447ba8",
      "f0040a24ba5942e38556636277f5fd82"
     ]
    },
    "id": "nzMckbKzAiAN",
    "outputId": "ca65e526-7fd5-43db-d8eb-4f189b4a923c"
   },
   "outputs": [
    {
     "data": {
      "application/vnd.jupyter.widget-view+json": {
       "model_id": "2e1c4ab83e3d4eaebb99323c66210f36",
       "version_major": 2,
       "version_minor": 0
      },
      "text/plain": [
       "VBox(children=(Label(value='Select your vehicle!'), FileUpload(value={}, description='Upload'), Button(descrip…"
      ]
     },
     "metadata": {},
     "output_type": "display_data"
    }
   ],
   "source": [
    "btn_run = widgets.Button(description='Classify')\n",
    "out_pl = widgets.Output()\n",
    "lbl_pred = widgets.Label()\n",
    "\n",
    "def on_click_classify(change):\n",
    "  img = PILImage.create(btn_upload.data[-1])\n",
    "  out_pl.clear_output()\n",
    "  with out_pl: display(img.to_thumb(128,128))\n",
    "  pred,pred_idx,probs = model.predict(img)\n",
    "  lbl_pred.value = f'Prediction: {pred}; Probability; {probs[pred_idx]:.04f}'\n",
    "\n",
    "btn_run.on_click(on_click_classify)\n",
    "btn_upload = widgets.FileUpload()\n",
    "VBox([widgets.Label('Select your vehicle!'), btn_upload, btn_run, out_pl, lbl_pred])"
   ]
  },
  {
   "cell_type": "code",
   "execution_count": null,
   "metadata": {},
   "outputs": [],
   "source": []
  }
 ],
 "metadata": {
  "accelerator": "GPU",
  "colab": {
   "collapsed_sections": [],
   "name": "Military vehicle recognition HCI.ipynb",
   "provenance": []
  },
  "kernelspec": {
   "display_name": "Python 3",
   "language": "python",
   "name": "python3"
  },
  "language_info": {
   "codemirror_mode": {
    "name": "ipython",
    "version": 3
   },
   "file_extension": ".py",
   "mimetype": "text/x-python",
   "name": "python",
   "nbconvert_exporter": "python",
   "pygments_lexer": "ipython3",
   "version": "3.8.5"
  },
  "widgets": {
   "application/vnd.jupyter.widget-state+json": {
    "3e9f7e1e7d724cdca3ce2380897a8f5b": {
     "model_module": "@jupyter-widgets/base",
     "model_name": "LayoutModel",
     "state": {
      "_model_module": "@jupyter-widgets/base",
      "_model_module_version": "1.2.0",
      "_model_name": "LayoutModel",
      "_view_count": null,
      "_view_module": "@jupyter-widgets/base",
      "_view_module_version": "1.2.0",
      "_view_name": "LayoutView",
      "align_content": null,
      "align_items": null,
      "align_self": null,
      "border": null,
      "bottom": null,
      "display": null,
      "flex": null,
      "flex_flow": null,
      "grid_area": null,
      "grid_auto_columns": null,
      "grid_auto_flow": null,
      "grid_auto_rows": null,
      "grid_column": null,
      "grid_gap": null,
      "grid_row": null,
      "grid_template_areas": null,
      "grid_template_columns": null,
      "grid_template_rows": null,
      "height": null,
      "justify_content": null,
      "justify_items": null,
      "left": null,
      "margin": null,
      "max_height": null,
      "max_width": null,
      "min_height": null,
      "min_width": null,
      "object_fit": null,
      "object_position": null,
      "order": null,
      "overflow": null,
      "overflow_x": null,
      "overflow_y": null,
      "padding": null,
      "right": null,
      "top": null,
      "visibility": null,
      "width": null
     }
    },
    "4480a03f3a504e0299ec79515127f437": {
     "model_module": "@jupyter-widgets/controls",
     "model_name": "DescriptionStyleModel",
     "state": {
      "_model_module": "@jupyter-widgets/controls",
      "_model_module_version": "1.5.0",
      "_model_name": "DescriptionStyleModel",
      "_view_count": null,
      "_view_module": "@jupyter-widgets/base",
      "_view_module_version": "1.2.0",
      "_view_name": "StyleView",
      "description_width": ""
     }
    },
    "577a48574c4c4204afee8c251909154a": {
     "model_module": "@jupyter-widgets/base",
     "model_name": "LayoutModel",
     "state": {
      "_model_module": "@jupyter-widgets/base",
      "_model_module_version": "1.2.0",
      "_model_name": "LayoutModel",
      "_view_count": null,
      "_view_module": "@jupyter-widgets/base",
      "_view_module_version": "1.2.0",
      "_view_name": "LayoutView",
      "align_content": null,
      "align_items": null,
      "align_self": null,
      "border": null,
      "bottom": null,
      "display": null,
      "flex": null,
      "flex_flow": null,
      "grid_area": null,
      "grid_auto_columns": null,
      "grid_auto_flow": null,
      "grid_auto_rows": null,
      "grid_column": null,
      "grid_gap": null,
      "grid_row": null,
      "grid_template_areas": null,
      "grid_template_columns": null,
      "grid_template_rows": null,
      "height": null,
      "justify_content": null,
      "justify_items": null,
      "left": null,
      "margin": null,
      "max_height": null,
      "max_width": null,
      "min_height": null,
      "min_width": null,
      "object_fit": null,
      "object_position": null,
      "order": null,
      "overflow": null,
      "overflow_x": null,
      "overflow_y": null,
      "padding": null,
      "right": null,
      "top": null,
      "visibility": null,
      "width": null
     }
    },
    "5afd74a8721f4f30a39cfcdda1f9e0a3": {
     "model_module": "@jupyter-widgets/controls",
     "model_name": "VBoxModel",
     "state": {
      "_dom_classes": [],
      "_model_module": "@jupyter-widgets/controls",
      "_model_module_version": "1.5.0",
      "_model_name": "VBoxModel",
      "_view_count": null,
      "_view_module": "@jupyter-widgets/controls",
      "_view_module_version": "1.5.0",
      "_view_name": "VBoxView",
      "box_style": "",
      "children": [
       "IPY_MODEL_72dee7cc95224d48a0e96a3505720fe9",
       "IPY_MODEL_a81aaaa05297486f8a3eae25a49fbc0e",
       "IPY_MODEL_b0ac851f55e94db1a3bba581d135984f",
       "IPY_MODEL_952f65280bba4c73a9e3997b45011629",
       "IPY_MODEL_9bbfb051e9dc4dcb96debb6c33834ac5"
      ],
      "layout": "IPY_MODEL_fbcfb9861150473893ab71ce34b87e64"
     }
    },
    "6baa0a6dcdb447c082da8dc2a56a37ff": {
     "model_module": "@jupyter-widgets/base",
     "model_name": "LayoutModel",
     "state": {
      "_model_module": "@jupyter-widgets/base",
      "_model_module_version": "1.2.0",
      "_model_name": "LayoutModel",
      "_view_count": null,
      "_view_module": "@jupyter-widgets/base",
      "_view_module_version": "1.2.0",
      "_view_name": "LayoutView",
      "align_content": null,
      "align_items": null,
      "align_self": null,
      "border": null,
      "bottom": null,
      "display": null,
      "flex": null,
      "flex_flow": null,
      "grid_area": null,
      "grid_auto_columns": null,
      "grid_auto_flow": null,
      "grid_auto_rows": null,
      "grid_column": null,
      "grid_gap": null,
      "grid_row": null,
      "grid_template_areas": null,
      "grid_template_columns": null,
      "grid_template_rows": null,
      "height": null,
      "justify_content": null,
      "justify_items": null,
      "left": null,
      "margin": null,
      "max_height": null,
      "max_width": null,
      "min_height": null,
      "min_width": null,
      "object_fit": null,
      "object_position": null,
      "order": null,
      "overflow": null,
      "overflow_x": null,
      "overflow_y": null,
      "padding": null,
      "right": null,
      "top": null,
      "visibility": null,
      "width": null
     }
    },
    "72dee7cc95224d48a0e96a3505720fe9": {
     "model_module": "@jupyter-widgets/controls",
     "model_name": "LabelModel",
     "state": {
      "_dom_classes": [],
      "_model_module": "@jupyter-widgets/controls",
      "_model_module_version": "1.5.0",
      "_model_name": "LabelModel",
      "_view_count": null,
      "_view_module": "@jupyter-widgets/controls",
      "_view_module_version": "1.5.0",
      "_view_name": "LabelView",
      "description": "",
      "description_tooltip": null,
      "layout": "IPY_MODEL_3e9f7e1e7d724cdca3ce2380897a8f5b",
      "placeholder": "​",
      "style": "IPY_MODEL_91429a934c4c44e1948e104294de25d1",
      "value": "Select your vehicle!"
     }
    },
    "73b4982d24fd487fa894df06f221dd83": {
     "model_module": "@jupyter-widgets/controls",
     "model_name": "ButtonStyleModel",
     "state": {
      "_model_module": "@jupyter-widgets/controls",
      "_model_module_version": "1.5.0",
      "_model_name": "ButtonStyleModel",
      "_view_count": null,
      "_view_module": "@jupyter-widgets/base",
      "_view_module_version": "1.2.0",
      "_view_name": "StyleView",
      "button_color": null,
      "font_weight": ""
     }
    },
    "91429a934c4c44e1948e104294de25d1": {
     "model_module": "@jupyter-widgets/controls",
     "model_name": "DescriptionStyleModel",
     "state": {
      "_model_module": "@jupyter-widgets/controls",
      "_model_module_version": "1.5.0",
      "_model_name": "DescriptionStyleModel",
      "_view_count": null,
      "_view_module": "@jupyter-widgets/base",
      "_view_module_version": "1.2.0",
      "_view_name": "StyleView",
      "description_width": ""
     }
    },
    "952f65280bba4c73a9e3997b45011629": {
     "model_module": "@jupyter-widgets/output",
     "model_name": "OutputModel",
     "state": {
      "_dom_classes": [],
      "_model_module": "@jupyter-widgets/output",
      "_model_module_version": "1.0.0",
      "_model_name": "OutputModel",
      "_view_count": null,
      "_view_module": "@jupyter-widgets/output",
      "_view_module_version": "1.0.0",
      "_view_name": "OutputView",
      "layout": "IPY_MODEL_f0040a24ba5942e38556636277f5fd82",
      "msg_id": "",
      "outputs": [
       {
        "image/png": "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\n",
        "metadata": {
         "tags": []
        },
        "output_type": "display_data",
        "text/plain": "<PIL.Image.Image image mode=RGB size=128x85 at 0x7FC00A62E590>"
       }
      ]
     }
    },
    "9bbfb051e9dc4dcb96debb6c33834ac5": {
     "model_module": "@jupyter-widgets/controls",
     "model_name": "LabelModel",
     "state": {
      "_dom_classes": [],
      "_model_module": "@jupyter-widgets/controls",
      "_model_module_version": "1.5.0",
      "_model_name": "LabelModel",
      "_view_count": null,
      "_view_module": "@jupyter-widgets/controls",
      "_view_module_version": "1.5.0",
      "_view_name": "LabelView",
      "description": "",
      "description_tooltip": null,
      "layout": "IPY_MODEL_b9682041b07f4fccbbb3c7d4be447ba8",
      "placeholder": "​",
      "style": "IPY_MODEL_4480a03f3a504e0299ec79515127f437",
      "value": "Prediction: Tank; Probability; 1.0000"
     }
    },
    "a81aaaa05297486f8a3eae25a49fbc0e": {
     "model_module": "@jupyter-widgets/controls",
     "model_name": "FileUploadModel",
     "state": {
      "_counter": 1,
      "_dom_classes": [],
      "_model_module": "@jupyter-widgets/controls",
      "_model_module_version": "1.5.0",
      "_model_name": "FileUploadModel",
      "_view_count": null,
      "_view_module": "@jupyter-widgets/controls",
      "_view_module_version": "1.5.0",
      "_view_name": "FileUploadView",
      "accept": "",
      "button_style": "",
      "data": [
       null
      ],
      "description": "Upload",
      "description_tooltip": null,
      "disabled": false,
      "error": "",
      "icon": "upload",
      "layout": "IPY_MODEL_6baa0a6dcdb447c082da8dc2a56a37ff",
      "metadata": [
       {
        "lastModified": 1621200050305,
        "name": "16032872915f9038fbab97c5.48798781.jpg",
        "size": 188384,
        "type": "image/jpeg"
       }
      ],
      "multiple": false,
      "style": "IPY_MODEL_b376178f9f424bb996dbe9066993d302"
     }
    },
    "b0ac851f55e94db1a3bba581d135984f": {
     "model_module": "@jupyter-widgets/controls",
     "model_name": "ButtonModel",
     "state": {
      "_dom_classes": [],
      "_model_module": "@jupyter-widgets/controls",
      "_model_module_version": "1.5.0",
      "_model_name": "ButtonModel",
      "_view_count": null,
      "_view_module": "@jupyter-widgets/controls",
      "_view_module_version": "1.5.0",
      "_view_name": "ButtonView",
      "button_style": "",
      "description": "Classify",
      "disabled": false,
      "icon": "",
      "layout": "IPY_MODEL_577a48574c4c4204afee8c251909154a",
      "style": "IPY_MODEL_73b4982d24fd487fa894df06f221dd83",
      "tooltip": ""
     }
    },
    "b376178f9f424bb996dbe9066993d302": {
     "model_module": "@jupyter-widgets/controls",
     "model_name": "ButtonStyleModel",
     "state": {
      "_model_module": "@jupyter-widgets/controls",
      "_model_module_version": "1.5.0",
      "_model_name": "ButtonStyleModel",
      "_view_count": null,
      "_view_module": "@jupyter-widgets/base",
      "_view_module_version": "1.2.0",
      "_view_name": "StyleView",
      "button_color": null,
      "font_weight": ""
     }
    },
    "b9682041b07f4fccbbb3c7d4be447ba8": {
     "model_module": "@jupyter-widgets/base",
     "model_name": "LayoutModel",
     "state": {
      "_model_module": "@jupyter-widgets/base",
      "_model_module_version": "1.2.0",
      "_model_name": "LayoutModel",
      "_view_count": null,
      "_view_module": "@jupyter-widgets/base",
      "_view_module_version": "1.2.0",
      "_view_name": "LayoutView",
      "align_content": null,
      "align_items": null,
      "align_self": null,
      "border": null,
      "bottom": null,
      "display": null,
      "flex": null,
      "flex_flow": null,
      "grid_area": null,
      "grid_auto_columns": null,
      "grid_auto_flow": null,
      "grid_auto_rows": null,
      "grid_column": null,
      "grid_gap": null,
      "grid_row": null,
      "grid_template_areas": null,
      "grid_template_columns": null,
      "grid_template_rows": null,
      "height": null,
      "justify_content": null,
      "justify_items": null,
      "left": null,
      "margin": null,
      "max_height": null,
      "max_width": null,
      "min_height": null,
      "min_width": null,
      "object_fit": null,
      "object_position": null,
      "order": null,
      "overflow": null,
      "overflow_x": null,
      "overflow_y": null,
      "padding": null,
      "right": null,
      "top": null,
      "visibility": null,
      "width": null
     }
    },
    "f0040a24ba5942e38556636277f5fd82": {
     "model_module": "@jupyter-widgets/base",
     "model_name": "LayoutModel",
     "state": {
      "_model_module": "@jupyter-widgets/base",
      "_model_module_version": "1.2.0",
      "_model_name": "LayoutModel",
      "_view_count": null,
      "_view_module": "@jupyter-widgets/base",
      "_view_module_version": "1.2.0",
      "_view_name": "LayoutView",
      "align_content": null,
      "align_items": null,
      "align_self": null,
      "border": null,
      "bottom": null,
      "display": null,
      "flex": null,
      "flex_flow": null,
      "grid_area": null,
      "grid_auto_columns": null,
      "grid_auto_flow": null,
      "grid_auto_rows": null,
      "grid_column": null,
      "grid_gap": null,
      "grid_row": null,
      "grid_template_areas": null,
      "grid_template_columns": null,
      "grid_template_rows": null,
      "height": null,
      "justify_content": null,
      "justify_items": null,
      "left": null,
      "margin": null,
      "max_height": null,
      "max_width": null,
      "min_height": null,
      "min_width": null,
      "object_fit": null,
      "object_position": null,
      "order": null,
      "overflow": null,
      "overflow_x": null,
      "overflow_y": null,
      "padding": null,
      "right": null,
      "top": null,
      "visibility": null,
      "width": null
     }
    },
    "fbcfb9861150473893ab71ce34b87e64": {
     "model_module": "@jupyter-widgets/base",
     "model_name": "LayoutModel",
     "state": {
      "_model_module": "@jupyter-widgets/base",
      "_model_module_version": "1.2.0",
      "_model_name": "LayoutModel",
      "_view_count": null,
      "_view_module": "@jupyter-widgets/base",
      "_view_module_version": "1.2.0",
      "_view_name": "LayoutView",
      "align_content": null,
      "align_items": null,
      "align_self": null,
      "border": null,
      "bottom": null,
      "display": null,
      "flex": null,
      "flex_flow": null,
      "grid_area": null,
      "grid_auto_columns": null,
      "grid_auto_flow": null,
      "grid_auto_rows": null,
      "grid_column": null,
      "grid_gap": null,
      "grid_row": null,
      "grid_template_areas": null,
      "grid_template_columns": null,
      "grid_template_rows": null,
      "height": null,
      "justify_content": null,
      "justify_items": null,
      "left": null,
      "margin": null,
      "max_height": null,
      "max_width": null,
      "min_height": null,
      "min_width": null,
      "object_fit": null,
      "object_position": null,
      "order": null,
      "overflow": null,
      "overflow_x": null,
      "overflow_y": null,
      "padding": null,
      "right": null,
      "top": null,
      "visibility": null,
      "width": null
     }
    }
   }
  }
 },
 "nbformat": 4,
 "nbformat_minor": 4
}
